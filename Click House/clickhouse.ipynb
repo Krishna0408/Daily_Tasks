{
 "cells": [
  {
   "cell_type": "code",
   "execution_count": 2,
   "metadata": {},
   "outputs": [
    {
     "name": "stdout",
     "output_type": "stream",
     "text": [
      "Data inserted successfully.\n"
     ]
    }
   ],
   "source": [
    "\n",
    "\n",
    "import requests\n",
    "import json\n",
    "\n",
    "# API endpoint to fetch data\n",
    "api_url = \"https://api.patentsview.org/patents/query?q={%22_gte%22:{%22patent_date%22:%222007-01-04%22}}&f=[%22patent_number%22,%22patent_date%22,%22patent_title%22]&o={%22page%22:1,%22per_page%22:1000}\"\n",
    "\n",
    "# Fetch data from the API\n",
    "response = requests.get(api_url)\n",
    "data = response.json()\n",
    "\n",
    "# Prepare the data for insertion\n",
    "data_to_insert = [{'Patent_number': item['patent_number'], 'Patent_name': item['patent_title'], 'Patent_date': item['patent_date']} for item in data['patents']]\n",
    "\n",
    "# ClickHouse server details\n",
    "clickhouse_url = 'http://localhost:8123'\n",
    "\n",
    "# Construct the INSERT query URL\n",
    "insert_url = f\"{clickhouse_url}/?query=INSERT%20INTO%20patents.patent_table%20FORMAT%20JSONEachRow\"\n",
    "\n",
    "# Send the data to ClickHouse using POST request\n",
    "headers = {'Content-Type': 'application/json'}\n",
    "response = requests.post(insert_url, data=json.dumps(data_to_insert), headers=headers)\n",
    "\n",
    "# Check the response status\n",
    "if response.status_code == 200:\n",
    "    print(\"Data inserted successfully.\")\n",
    "else:\n",
    "    print(\"Failed to insert data.\")\n",
    "\n",
    "\n"
   ]
  },
  {
   "cell_type": "code",
   "execution_count": null,
   "metadata": {},
   "outputs": [],
   "source": []
  }
 ],
 "metadata": {
  "kernelspec": {
   "display_name": "Python 3",
   "language": "python",
   "name": "python3"
  },
  "language_info": {
   "codemirror_mode": {
    "name": "ipython",
    "version": 3
   },
   "file_extension": ".py",
   "mimetype": "text/x-python",
   "name": "python",
   "nbconvert_exporter": "python",
   "pygments_lexer": "ipython3",
   "version": "3.11.4"
  },
  "orig_nbformat": 4
 },
 "nbformat": 4,
 "nbformat_minor": 2
}
